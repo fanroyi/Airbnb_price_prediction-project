{
  "nbformat": 4,
  "nbformat_minor": 0,
  "metadata": {
    "colab": {
      "name": "Group Project.ipynb",
      "provenance": [],
      "collapsed_sections": [],
      "include_colab_link": true
    },
    "kernelspec": {
      "name": "python3",
      "display_name": "Python 3"
    },
    "language_info": {
      "name": "python"
    }
  },
  "cells": [
    {
      "cell_type": "markdown",
      "metadata": {
        "id": "view-in-github",
        "colab_type": "text"
      },
      "source": [
        "<a href=\"https://colab.research.google.com/github/fanroyi/DA-project/blob/main/Group_Project.ipynb\" target=\"_parent\"><img src=\"https://colab.research.google.com/assets/colab-badge.svg\" alt=\"Open In Colab\"/></a>"
      ]
    },
    {
      "cell_type": "code",
      "metadata": {
        "id": "RrkxuQMQArJZ"
      },
      "source": [
        "import pandas as pd\n",
        "import numpy as np\n",
        "from pandas.api.types import is_numeric_dtype"
      ],
      "execution_count": 87,
      "outputs": []
    },
    {
      "cell_type": "markdown",
      "metadata": {
        "id": "IDKlBLDQtVrA"
      },
      "source": [
        "# Import Data"
      ]
    },
    {
      "cell_type": "code",
      "metadata": {
        "colab": {
          "base_uri": "https://localhost:8080/"
        },
        "id": "UplROVYWIEK7",
        "outputId": "b1d62eb1-1dec-449a-fa2c-4b1a8bcbd8df"
      },
      "source": [
        "from google.colab import drive\n",
        "drive.mount('/content/drive')"
      ],
      "execution_count": 88,
      "outputs": [
        {
          "output_type": "stream",
          "name": "stdout",
          "text": [
            "Drive already mounted at /content/drive; to attempt to forcibly remount, call drive.mount(\"/content/drive\", force_remount=True).\n"
          ]
        }
      ]
    },
    {
      "cell_type": "code",
      "metadata": {
        "id": "hO102CVogqE-"
      },
      "source": [
        "df_reviews = pd.read_csv(\"/content/drive/MyDrive/IEOR E4523 DA Boom/reviews.csv\", engine = \"python\", error_bad_lines=False)\n",
        "df_listings = pd.read_csv(\"/content/drive/MyDrive/IEOR E4523 DA Boom/listings.csv\", engine = \"python\", error_bad_lines=False)"
      ],
      "execution_count": 89,
      "outputs": []
    },
    {
      "cell_type": "markdown",
      "metadata": {
        "id": "36USV8vZtMeS"
      },
      "source": [
        "# Data Preprocessing"
      ]
    },
    {
      "cell_type": "code",
      "metadata": {
        "colab": {
          "base_uri": "https://localhost:8080/"
        },
        "id": "72lDXYSsgB5X",
        "outputId": "55864cdd-7a64-4f91-95fc-d72aaebe8a0f"
      },
      "source": [
        "def change_to_list(x):\n",
        "  y = []\n",
        "  y.append(x)\n",
        "  x = y\n",
        "  return x\n",
        "\n",
        "df_reviews['comments'] = df_reviews['comments'].apply(change_to_list)\n",
        "df_reviews = df_reviews.groupby('listing_id',as_index=False).agg({'comments': 'sum'}) # add all comment to a list groubby listid\n",
        "df_reviews = df_reviews.rename(columns={\"listing_id\": \"id\"})\n",
        "# get combine df\n",
        "df = pd.merge(df_reviews, df_listings, on=\"id\",how = 'inner')\n",
        "df.info()"
      ],
      "execution_count": 90,
      "outputs": [
        {
          "output_type": "stream",
          "name": "stdout",
          "text": [
            "<class 'pandas.core.frame.DataFrame'>\n",
            "Int64Index: 27627 entries, 0 to 27626\n",
            "Data columns (total 75 columns):\n",
            " #   Column                                        Non-Null Count  Dtype  \n",
            "---  ------                                        --------------  -----  \n",
            " 0   id                                            27627 non-null  int64  \n",
            " 1   comments                                      27627 non-null  object \n",
            " 2   listing_url                                   27627 non-null  object \n",
            " 3   scrape_id                                     27627 non-null  int64  \n",
            " 4   last_scraped                                  27627 non-null  object \n",
            " 5   name                                          27621 non-null  object \n",
            " 6   description                                   27026 non-null  object \n",
            " 7   neighborhood_overview                         18243 non-null  object \n",
            " 8   picture_url                                   27627 non-null  object \n",
            " 9   host_id                                       27627 non-null  int64  \n",
            " 10  host_url                                      27627 non-null  object \n",
            " 11  host_name                                     27608 non-null  object \n",
            " 12  host_since                                    27608 non-null  object \n",
            " 13  host_location                                 27548 non-null  object \n",
            " 14  host_about                                    17023 non-null  object \n",
            " 15  host_response_time                            16132 non-null  object \n",
            " 16  host_response_rate                            16132 non-null  object \n",
            " 17  host_acceptance_rate                          16859 non-null  object \n",
            " 18  host_is_superhost                             27608 non-null  object \n",
            " 19  host_thumbnail_url                            27608 non-null  object \n",
            " 20  host_picture_url                              27608 non-null  object \n",
            " 21  host_neighbourhood                            22668 non-null  object \n",
            " 22  host_listings_count                           27608 non-null  float64\n",
            " 23  host_total_listings_count                     27608 non-null  float64\n",
            " 24  host_verifications                            27627 non-null  object \n",
            " 25  host_has_profile_pic                          27608 non-null  object \n",
            " 26  host_identity_verified                        27608 non-null  object \n",
            " 27  neighbourhood                                 18244 non-null  object \n",
            " 28  neighbourhood_cleansed                        27627 non-null  object \n",
            " 29  neighbourhood_group_cleansed                  27627 non-null  object \n",
            " 30  latitude                                      27627 non-null  float64\n",
            " 31  longitude                                     27627 non-null  float64\n",
            " 32  property_type                                 27627 non-null  object \n",
            " 33  room_type                                     27627 non-null  object \n",
            " 34  accommodates                                  27627 non-null  int64  \n",
            " 35  bathrooms                                     0 non-null      float64\n",
            " 36  bathrooms_text                                27562 non-null  object \n",
            " 37  bedrooms                                      24717 non-null  float64\n",
            " 38  beds                                          27367 non-null  float64\n",
            " 39  amenities                                     27627 non-null  object \n",
            " 40  price                                         27627 non-null  object \n",
            " 41  minimum_nights                                27627 non-null  int64  \n",
            " 42  maximum_nights                                27627 non-null  int64  \n",
            " 43  minimum_minimum_nights                        27617 non-null  float64\n",
            " 44  maximum_minimum_nights                        27617 non-null  float64\n",
            " 45  minimum_maximum_nights                        27617 non-null  float64\n",
            " 46  maximum_maximum_nights                        27617 non-null  float64\n",
            " 47  minimum_nights_avg_ntm                        27617 non-null  float64\n",
            " 48  maximum_nights_avg_ntm                        27617 non-null  float64\n",
            " 49  calendar_updated                              0 non-null      float64\n",
            " 50  has_availability                              27627 non-null  object \n",
            " 51  availability_30                               27627 non-null  int64  \n",
            " 52  availability_60                               27627 non-null  int64  \n",
            " 53  availability_90                               27627 non-null  int64  \n",
            " 54  availability_365                              27627 non-null  int64  \n",
            " 55  calendar_last_scraped                         27627 non-null  object \n",
            " 56  number_of_reviews                             27627 non-null  int64  \n",
            " 57  number_of_reviews_ltm                         27627 non-null  int64  \n",
            " 58  number_of_reviews_l30d                        27627 non-null  int64  \n",
            " 59  first_review                                  27627 non-null  object \n",
            " 60  last_review                                   27627 non-null  object \n",
            " 61  review_scores_rating                          27627 non-null  float64\n",
            " 62  review_scores_accuracy                        26998 non-null  float64\n",
            " 63  review_scores_cleanliness                     27009 non-null  float64\n",
            " 64  review_scores_checkin                         26991 non-null  float64\n",
            " 65  review_scores_communication                   27002 non-null  float64\n",
            " 66  review_scores_location                        26987 non-null  float64\n",
            " 67  review_scores_value                           26987 non-null  float64\n",
            " 68  license                                       0 non-null      float64\n",
            " 69  instant_bookable                              27627 non-null  object \n",
            " 70  calculated_host_listings_count                27627 non-null  int64  \n",
            " 71  calculated_host_listings_count_entire_homes   27627 non-null  int64  \n",
            " 72  calculated_host_listings_count_private_rooms  27627 non-null  int64  \n",
            " 73  calculated_host_listings_count_shared_rooms   27627 non-null  int64  \n",
            " 74  reviews_per_month                             27627 non-null  float64\n",
            "dtypes: float64(23), int64(17), object(35)\n",
            "memory usage: 16.0+ MB\n"
          ]
        }
      ]
    },
    {
      "cell_type": "code",
      "metadata": {
        "id": "yhNHq9WQjbVB"
      },
      "source": [
        "# fill nan value with mean value for numeric columns\n",
        "for column in df:\n",
        "  if is_numeric_dtype(df[column]):\n",
        "    df[column].fillna(value=df[column].mean(), inplace=True)"
      ],
      "execution_count": 91,
      "outputs": []
    },
    {
      "cell_type": "code",
      "metadata": {
        "colab": {
          "base_uri": "https://localhost:8080/"
        },
        "id": "IlUPMELIjwqp",
        "outputId": "f4340edd-9889-4cbc-8a1a-9015ec500376"
      },
      "source": [
        "df.info()"
      ],
      "execution_count": 92,
      "outputs": [
        {
          "output_type": "stream",
          "name": "stdout",
          "text": [
            "<class 'pandas.core.frame.DataFrame'>\n",
            "Int64Index: 27627 entries, 0 to 27626\n",
            "Data columns (total 75 columns):\n",
            " #   Column                                        Non-Null Count  Dtype  \n",
            "---  ------                                        --------------  -----  \n",
            " 0   id                                            27627 non-null  int64  \n",
            " 1   comments                                      27627 non-null  object \n",
            " 2   listing_url                                   27627 non-null  object \n",
            " 3   scrape_id                                     27627 non-null  int64  \n",
            " 4   last_scraped                                  27627 non-null  object \n",
            " 5   name                                          27621 non-null  object \n",
            " 6   description                                   27026 non-null  object \n",
            " 7   neighborhood_overview                         18243 non-null  object \n",
            " 8   picture_url                                   27627 non-null  object \n",
            " 9   host_id                                       27627 non-null  int64  \n",
            " 10  host_url                                      27627 non-null  object \n",
            " 11  host_name                                     27608 non-null  object \n",
            " 12  host_since                                    27608 non-null  object \n",
            " 13  host_location                                 27548 non-null  object \n",
            " 14  host_about                                    17023 non-null  object \n",
            " 15  host_response_time                            16132 non-null  object \n",
            " 16  host_response_rate                            16132 non-null  object \n",
            " 17  host_acceptance_rate                          16859 non-null  object \n",
            " 18  host_is_superhost                             27608 non-null  object \n",
            " 19  host_thumbnail_url                            27608 non-null  object \n",
            " 20  host_picture_url                              27608 non-null  object \n",
            " 21  host_neighbourhood                            22668 non-null  object \n",
            " 22  host_listings_count                           27627 non-null  float64\n",
            " 23  host_total_listings_count                     27627 non-null  float64\n",
            " 24  host_verifications                            27627 non-null  object \n",
            " 25  host_has_profile_pic                          27608 non-null  object \n",
            " 26  host_identity_verified                        27608 non-null  object \n",
            " 27  neighbourhood                                 18244 non-null  object \n",
            " 28  neighbourhood_cleansed                        27627 non-null  object \n",
            " 29  neighbourhood_group_cleansed                  27627 non-null  object \n",
            " 30  latitude                                      27627 non-null  float64\n",
            " 31  longitude                                     27627 non-null  float64\n",
            " 32  property_type                                 27627 non-null  object \n",
            " 33  room_type                                     27627 non-null  object \n",
            " 34  accommodates                                  27627 non-null  int64  \n",
            " 35  bathrooms                                     0 non-null      float64\n",
            " 36  bathrooms_text                                27562 non-null  object \n",
            " 37  bedrooms                                      27627 non-null  float64\n",
            " 38  beds                                          27627 non-null  float64\n",
            " 39  amenities                                     27627 non-null  object \n",
            " 40  price                                         27627 non-null  object \n",
            " 41  minimum_nights                                27627 non-null  int64  \n",
            " 42  maximum_nights                                27627 non-null  int64  \n",
            " 43  minimum_minimum_nights                        27627 non-null  float64\n",
            " 44  maximum_minimum_nights                        27627 non-null  float64\n",
            " 45  minimum_maximum_nights                        27627 non-null  float64\n",
            " 46  maximum_maximum_nights                        27627 non-null  float64\n",
            " 47  minimum_nights_avg_ntm                        27627 non-null  float64\n",
            " 48  maximum_nights_avg_ntm                        27627 non-null  float64\n",
            " 49  calendar_updated                              0 non-null      float64\n",
            " 50  has_availability                              27627 non-null  object \n",
            " 51  availability_30                               27627 non-null  int64  \n",
            " 52  availability_60                               27627 non-null  int64  \n",
            " 53  availability_90                               27627 non-null  int64  \n",
            " 54  availability_365                              27627 non-null  int64  \n",
            " 55  calendar_last_scraped                         27627 non-null  object \n",
            " 56  number_of_reviews                             27627 non-null  int64  \n",
            " 57  number_of_reviews_ltm                         27627 non-null  int64  \n",
            " 58  number_of_reviews_l30d                        27627 non-null  int64  \n",
            " 59  first_review                                  27627 non-null  object \n",
            " 60  last_review                                   27627 non-null  object \n",
            " 61  review_scores_rating                          27627 non-null  float64\n",
            " 62  review_scores_accuracy                        27627 non-null  float64\n",
            " 63  review_scores_cleanliness                     27627 non-null  float64\n",
            " 64  review_scores_checkin                         27627 non-null  float64\n",
            " 65  review_scores_communication                   27627 non-null  float64\n",
            " 66  review_scores_location                        27627 non-null  float64\n",
            " 67  review_scores_value                           27627 non-null  float64\n",
            " 68  license                                       0 non-null      float64\n",
            " 69  instant_bookable                              27627 non-null  object \n",
            " 70  calculated_host_listings_count                27627 non-null  int64  \n",
            " 71  calculated_host_listings_count_entire_homes   27627 non-null  int64  \n",
            " 72  calculated_host_listings_count_private_rooms  27627 non-null  int64  \n",
            " 73  calculated_host_listings_count_shared_rooms   27627 non-null  int64  \n",
            " 74  reviews_per_month                             27627 non-null  float64\n",
            "dtypes: float64(23), int64(17), object(35)\n",
            "memory usage: 16.0+ MB\n"
          ]
        }
      ]
    },
    {
      "cell_type": "code",
      "metadata": {
        "id": "q0-unmICpt2J"
      },
      "source": [
        ""
      ],
      "execution_count": 92,
      "outputs": []
    }
  ]
}