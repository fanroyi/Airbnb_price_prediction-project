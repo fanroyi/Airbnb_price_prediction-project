{
 "cells": [
  {
   "cell_type": "code",
   "execution_count": 1,
   "metadata": {
    "pycharm": {
     "name": "#%%\n"
    }
   },
   "outputs": [],
   "source": [
    "import pandas as pd\n",
    "import numpy as np\n",
    "from pandas.api.types import is_numeric_dtype\n",
    "import datetime\n",
    "from datetime import date\n",
    "from sklearn.preprocessing import StandardScaler\n",
    "from sklearn.model_selection import train_test_split\n",
    "from sklearn.linear_model import LinearRegression\n",
    "from sklearn import linear_model\n",
    "from sklearn.metrics import r2_score\n",
    "from sklearn.metrics import mean_squared_error\n",
    "from sklearn.ensemble import GradientBoostingRegressor\n",
    "import matplotlib.pyplot as plt\n",
    "import seaborn as sns\n",
    "%matplotlib inline\n",
    "from sklearn.ensemble import RandomForestRegressor\n",
    "from sklearn.model_selection import GridSearchCV\n",
    "from sklearn.tree import DecisionTreeRegressor\n",
    "from sklearn import tree\n",
    "\n",
    "from sklearn import linear_model\n",
    "from xgboost import XGBRegressor\n",
    "from catboost import CatBoostRegressor\n",
    "from sklearn.metrics import mean_squared_error, r2_score\n",
    "from sklearn.model_selection import RandomizedSearchCV\n",
    "from sklearn.model_selection import GridSearchCV\n",
    "from hyperopt import STATUS_OK, Trials, fmin, hp, tpe\n",
    "\n",
    "\n",
    "import warnings\n",
    "warnings.filterwarnings(\"ignore\")"
   ]
  },
  {
   "cell_type": "code",
   "execution_count": null,
   "metadata": {
    "pycharm": {
     "name": "#%%\n"
    }
   },
   "outputs": [],
   "source": []
  },
  {
   "cell_type": "markdown",
   "metadata": {
    "pycharm": {
     "name": "#%% md\n"
    }
   },
   "source": [
    "# Scaleing Dataframe"
   ]
  },
  {
   "cell_type": "code",
   "execution_count": 3,
   "metadata": {
    "pycharm": {
     "name": "#%%\n"
    }
   },
   "outputs": [],
   "source": [
    "df = pd.read_csv('dummy_df.csv')"
   ]
  },
  {
   "cell_type": "code",
   "execution_count": 4,
   "metadata": {
    "pycharm": {
     "name": "#%%\n"
    }
   },
   "outputs": [],
   "source": [
    "scaler = StandardScaler()\n",
    "scaler_data = scaler.fit_transform(df)\n",
    "scaler_df = pd.DataFrame(scaler_data, columns = df.columns.to_list())"
   ]
  },
  {
   "cell_type": "code",
   "execution_count": 5,
   "metadata": {
    "pycharm": {
     "name": "#%%\n"
    }
   },
   "outputs": [
    {
     "data": {
      "text/html": [
       "<div>\n",
       "<style scoped>\n",
       "    .dataframe tbody tr th:only-of-type {\n",
       "        vertical-align: middle;\n",
       "    }\n",
       "\n",
       "    .dataframe tbody tr th {\n",
       "        vertical-align: top;\n",
       "    }\n",
       "\n",
       "    .dataframe thead th {\n",
       "        text-align: right;\n",
       "    }\n",
       "</style>\n",
       "<table border=\"1\" class=\"dataframe\">\n",
       "  <thead>\n",
       "    <tr style=\"text-align: right;\">\n",
       "      <th></th>\n",
       "      <th>host_response_rate</th>\n",
       "      <th>host_acceptance_rate</th>\n",
       "      <th>host_is_superhost</th>\n",
       "      <th>host_listings_count</th>\n",
       "      <th>host_total_listings_count</th>\n",
       "      <th>host_has_profile_pic</th>\n",
       "      <th>host_identity_verified</th>\n",
       "      <th>latitude</th>\n",
       "      <th>longitude</th>\n",
       "      <th>accommodates</th>\n",
       "      <th>...</th>\n",
       "      <th>government_id</th>\n",
       "      <th>facebook</th>\n",
       "      <th>zhima_selfie</th>\n",
       "      <th>sent_id</th>\n",
       "      <th>reviews</th>\n",
       "      <th>sesame</th>\n",
       "      <th>email</th>\n",
       "      <th>weibo</th>\n",
       "      <th>google</th>\n",
       "      <th>manual_online</th>\n",
       "    </tr>\n",
       "  </thead>\n",
       "  <tbody>\n",
       "    <tr>\n",
       "      <th>count</th>\n",
       "      <td>2.762700e+04</td>\n",
       "      <td>2.762700e+04</td>\n",
       "      <td>2.762700e+04</td>\n",
       "      <td>2.762700e+04</td>\n",
       "      <td>2.762700e+04</td>\n",
       "      <td>2.762700e+04</td>\n",
       "      <td>2.762700e+04</td>\n",
       "      <td>2.762700e+04</td>\n",
       "      <td>2.762700e+04</td>\n",
       "      <td>2.762700e+04</td>\n",
       "      <td>...</td>\n",
       "      <td>2.762700e+04</td>\n",
       "      <td>2.762700e+04</td>\n",
       "      <td>2.762700e+04</td>\n",
       "      <td>2.762700e+04</td>\n",
       "      <td>2.762700e+04</td>\n",
       "      <td>2.762700e+04</td>\n",
       "      <td>2.762700e+04</td>\n",
       "      <td>2.762700e+04</td>\n",
       "      <td>2.762700e+04</td>\n",
       "      <td>2.762700e+04</td>\n",
       "    </tr>\n",
       "    <tr>\n",
       "      <th>mean</th>\n",
       "      <td>4.898329e-15</td>\n",
       "      <td>-4.665541e-15</td>\n",
       "      <td>-8.466597e-15</td>\n",
       "      <td>-9.750635e-15</td>\n",
       "      <td>-9.750635e-15</td>\n",
       "      <td>-8.466259e-15</td>\n",
       "      <td>-1.006418e-14</td>\n",
       "      <td>3.057521e-14</td>\n",
       "      <td>1.195531e-14</td>\n",
       "      <td>-5.531223e-16</td>\n",
       "      <td>...</td>\n",
       "      <td>6.790175e-15</td>\n",
       "      <td>1.059826e-14</td>\n",
       "      <td>3.078691e-15</td>\n",
       "      <td>-3.647802e-15</td>\n",
       "      <td>7.911301e-14</td>\n",
       "      <td>1.188699e-15</td>\n",
       "      <td>1.104044e-14</td>\n",
       "      <td>2.315825e-15</td>\n",
       "      <td>-1.156038e-14</td>\n",
       "      <td>-2.717728e-15</td>\n",
       "    </tr>\n",
       "    <tr>\n",
       "      <th>std</th>\n",
       "      <td>1.000018e+00</td>\n",
       "      <td>1.000018e+00</td>\n",
       "      <td>1.000018e+00</td>\n",
       "      <td>1.000018e+00</td>\n",
       "      <td>1.000018e+00</td>\n",
       "      <td>1.000018e+00</td>\n",
       "      <td>1.000018e+00</td>\n",
       "      <td>1.000018e+00</td>\n",
       "      <td>1.000018e+00</td>\n",
       "      <td>1.000018e+00</td>\n",
       "      <td>...</td>\n",
       "      <td>1.000018e+00</td>\n",
       "      <td>1.000018e+00</td>\n",
       "      <td>1.000018e+00</td>\n",
       "      <td>1.000018e+00</td>\n",
       "      <td>1.000018e+00</td>\n",
       "      <td>1.000018e+00</td>\n",
       "      <td>1.000018e+00</td>\n",
       "      <td>1.000018e+00</td>\n",
       "      <td>1.000018e+00</td>\n",
       "      <td>1.000018e+00</td>\n",
       "    </tr>\n",
       "    <tr>\n",
       "      <th>min</th>\n",
       "      <td>-4.746093e+00</td>\n",
       "      <td>-3.578366e+00</td>\n",
       "      <td>-5.358469e-01</td>\n",
       "      <td>-1.143884e-01</td>\n",
       "      <td>-1.143884e-01</td>\n",
       "      <td>-1.540012e+01</td>\n",
       "      <td>-2.198220e+00</td>\n",
       "      <td>-3.877852e+00</td>\n",
       "      <td>-5.744422e+00</td>\n",
       "      <td>-1.552463e+00</td>\n",
       "      <td>...</td>\n",
       "      <td>-1.310772e+00</td>\n",
       "      <td>-4.757526e-01</td>\n",
       "      <td>-1.995795e-02</td>\n",
       "      <td>-3.902008e-02</td>\n",
       "      <td>-1.405733e+00</td>\n",
       "      <td>-2.481368e-02</td>\n",
       "      <td>-3.763377e+00</td>\n",
       "      <td>-2.623369e-02</td>\n",
       "      <td>-2.127202e-01</td>\n",
       "      <td>-7.891861e-02</td>\n",
       "    </tr>\n",
       "    <tr>\n",
       "      <th>25%</th>\n",
       "      <td>3.367299e-01</td>\n",
       "      <td>9.581876e-02</td>\n",
       "      <td>-5.358469e-01</td>\n",
       "      <td>-1.053355e-01</td>\n",
       "      <td>-1.053355e-01</td>\n",
       "      <td>6.493455e-02</td>\n",
       "      <td>4.549135e-01</td>\n",
       "      <td>-7.137920e-01</td>\n",
       "      <td>-6.718122e-01</td>\n",
       "      <td>-4.676454e-01</td>\n",
       "      <td>...</td>\n",
       "      <td>-1.310772e+00</td>\n",
       "      <td>-4.757526e-01</td>\n",
       "      <td>-1.995795e-02</td>\n",
       "      <td>-3.902008e-02</td>\n",
       "      <td>-1.405733e+00</td>\n",
       "      <td>-2.481368e-02</td>\n",
       "      <td>2.657188e-01</td>\n",
       "      <td>-2.623369e-02</td>\n",
       "      <td>-2.127202e-01</td>\n",
       "      <td>-7.891861e-02</td>\n",
       "    </tr>\n",
       "    <tr>\n",
       "      <th>50%</th>\n",
       "      <td>3.367299e-01</td>\n",
       "      <td>3.119473e-01</td>\n",
       "      <td>-5.358469e-01</td>\n",
       "      <td>-1.053355e-01</td>\n",
       "      <td>-1.053355e-01</td>\n",
       "      <td>6.493455e-02</td>\n",
       "      <td>4.549135e-01</td>\n",
       "      <td>-8.904121e-02</td>\n",
       "      <td>-1.135017e-01</td>\n",
       "      <td>-4.676454e-01</td>\n",
       "      <td>...</td>\n",
       "      <td>7.629093e-01</td>\n",
       "      <td>-4.757526e-01</td>\n",
       "      <td>-1.995795e-02</td>\n",
       "      <td>-3.902008e-02</td>\n",
       "      <td>7.113726e-01</td>\n",
       "      <td>-2.481368e-02</td>\n",
       "      <td>2.657188e-01</td>\n",
       "      <td>-2.623369e-02</td>\n",
       "      <td>-2.127202e-01</td>\n",
       "      <td>-7.891861e-02</td>\n",
       "    </tr>\n",
       "    <tr>\n",
       "      <th>75%</th>\n",
       "      <td>3.367299e-01</td>\n",
       "      <td>5.280757e-01</td>\n",
       "      <td>-5.358469e-01</td>\n",
       "      <td>-8.722972e-02</td>\n",
       "      <td>-8.722972e-02</td>\n",
       "      <td>6.493455e-02</td>\n",
       "      <td>4.549135e-01</td>\n",
       "      <td>6.120798e-01</td>\n",
       "      <td>3.522142e-01</td>\n",
       "      <td>6.171725e-01</td>\n",
       "      <td>...</td>\n",
       "      <td>7.629093e-01</td>\n",
       "      <td>-4.757526e-01</td>\n",
       "      <td>-1.995795e-02</td>\n",
       "      <td>-3.902008e-02</td>\n",
       "      <td>7.113726e-01</td>\n",
       "      <td>-2.481368e-02</td>\n",
       "      <td>2.657188e-01</td>\n",
       "      <td>-2.623369e-02</td>\n",
       "      <td>-2.127202e-01</td>\n",
       "      <td>-7.891861e-02</td>\n",
       "    </tr>\n",
       "    <tr>\n",
       "      <th>max</th>\n",
       "      <td>3.367299e-01</td>\n",
       "      <td>7.442042e-01</td>\n",
       "      <td>1.866205e+00</td>\n",
       "      <td>4.577467e+01</td>\n",
       "      <td>4.577467e+01</td>\n",
       "      <td>6.493455e-02</td>\n",
       "      <td>4.549135e-01</td>\n",
       "      <td>3.288787e+00</td>\n",
       "      <td>4.761573e+00</td>\n",
       "      <td>7.126080e+00</td>\n",
       "      <td>...</td>\n",
       "      <td>7.629093e-01</td>\n",
       "      <td>2.101933e+00</td>\n",
       "      <td>5.010534e+01</td>\n",
       "      <td>2.562783e+01</td>\n",
       "      <td>7.113726e-01</td>\n",
       "      <td>4.030034e+01</td>\n",
       "      <td>2.657188e-01</td>\n",
       "      <td>3.811893e+01</td>\n",
       "      <td>4.701010e+00</td>\n",
       "      <td>1.267128e+01</td>\n",
       "    </tr>\n",
       "  </tbody>\n",
       "</table>\n",
       "<p>8 rows × 989 columns</p>\n",
       "</div>"
      ],
      "text/plain": [
       "       host_response_rate  host_acceptance_rate  host_is_superhost  \\\n",
       "count        2.762700e+04          2.762700e+04       2.762700e+04   \n",
       "mean         4.898329e-15         -4.665541e-15      -8.466597e-15   \n",
       "std          1.000018e+00          1.000018e+00       1.000018e+00   \n",
       "min         -4.746093e+00         -3.578366e+00      -5.358469e-01   \n",
       "25%          3.367299e-01          9.581876e-02      -5.358469e-01   \n",
       "50%          3.367299e-01          3.119473e-01      -5.358469e-01   \n",
       "75%          3.367299e-01          5.280757e-01      -5.358469e-01   \n",
       "max          3.367299e-01          7.442042e-01       1.866205e+00   \n",
       "\n",
       "       host_listings_count  host_total_listings_count  host_has_profile_pic  \\\n",
       "count         2.762700e+04               2.762700e+04          2.762700e+04   \n",
       "mean         -9.750635e-15              -9.750635e-15         -8.466259e-15   \n",
       "std           1.000018e+00               1.000018e+00          1.000018e+00   \n",
       "min          -1.143884e-01              -1.143884e-01         -1.540012e+01   \n",
       "25%          -1.053355e-01              -1.053355e-01          6.493455e-02   \n",
       "50%          -1.053355e-01              -1.053355e-01          6.493455e-02   \n",
       "75%          -8.722972e-02              -8.722972e-02          6.493455e-02   \n",
       "max           4.577467e+01               4.577467e+01          6.493455e-02   \n",
       "\n",
       "       host_identity_verified      latitude     longitude  accommodates  ...  \\\n",
       "count            2.762700e+04  2.762700e+04  2.762700e+04  2.762700e+04  ...   \n",
       "mean            -1.006418e-14  3.057521e-14  1.195531e-14 -5.531223e-16  ...   \n",
       "std              1.000018e+00  1.000018e+00  1.000018e+00  1.000018e+00  ...   \n",
       "min             -2.198220e+00 -3.877852e+00 -5.744422e+00 -1.552463e+00  ...   \n",
       "25%              4.549135e-01 -7.137920e-01 -6.718122e-01 -4.676454e-01  ...   \n",
       "50%              4.549135e-01 -8.904121e-02 -1.135017e-01 -4.676454e-01  ...   \n",
       "75%              4.549135e-01  6.120798e-01  3.522142e-01  6.171725e-01  ...   \n",
       "max              4.549135e-01  3.288787e+00  4.761573e+00  7.126080e+00  ...   \n",
       "\n",
       "       government_id      facebook  zhima_selfie       sent_id       reviews  \\\n",
       "count   2.762700e+04  2.762700e+04  2.762700e+04  2.762700e+04  2.762700e+04   \n",
       "mean    6.790175e-15  1.059826e-14  3.078691e-15 -3.647802e-15  7.911301e-14   \n",
       "std     1.000018e+00  1.000018e+00  1.000018e+00  1.000018e+00  1.000018e+00   \n",
       "min    -1.310772e+00 -4.757526e-01 -1.995795e-02 -3.902008e-02 -1.405733e+00   \n",
       "25%    -1.310772e+00 -4.757526e-01 -1.995795e-02 -3.902008e-02 -1.405733e+00   \n",
       "50%     7.629093e-01 -4.757526e-01 -1.995795e-02 -3.902008e-02  7.113726e-01   \n",
       "75%     7.629093e-01 -4.757526e-01 -1.995795e-02 -3.902008e-02  7.113726e-01   \n",
       "max     7.629093e-01  2.101933e+00  5.010534e+01  2.562783e+01  7.113726e-01   \n",
       "\n",
       "             sesame         email         weibo        google  manual_online  \n",
       "count  2.762700e+04  2.762700e+04  2.762700e+04  2.762700e+04   2.762700e+04  \n",
       "mean   1.188699e-15  1.104044e-14  2.315825e-15 -1.156038e-14  -2.717728e-15  \n",
       "std    1.000018e+00  1.000018e+00  1.000018e+00  1.000018e+00   1.000018e+00  \n",
       "min   -2.481368e-02 -3.763377e+00 -2.623369e-02 -2.127202e-01  -7.891861e-02  \n",
       "25%   -2.481368e-02  2.657188e-01 -2.623369e-02 -2.127202e-01  -7.891861e-02  \n",
       "50%   -2.481368e-02  2.657188e-01 -2.623369e-02 -2.127202e-01  -7.891861e-02  \n",
       "75%   -2.481368e-02  2.657188e-01 -2.623369e-02 -2.127202e-01  -7.891861e-02  \n",
       "max    4.030034e+01  2.657188e-01  3.811893e+01  4.701010e+00   1.267128e+01  \n",
       "\n",
       "[8 rows x 989 columns]"
      ]
     },
     "execution_count": 5,
     "metadata": {},
     "output_type": "execute_result"
    }
   ],
   "source": [
    "scaler_df.describe()"
   ]
  },
  {
   "cell_type": "code",
   "execution_count": 6,
   "metadata": {
    "pycharm": {
     "name": "#%%\n"
    }
   },
   "outputs": [],
   "source": [
    "from sklearn.decomposition import PCA\n",
    "X = scaler_df.drop(['price'],axis=1, inplace=False)\n",
    "y = scaler_df['price']\n",
    "pca = PCA(n_components = 10,svd_solver = 'randomized')\n",
    "X_transform = pca.fit_transform(X)"
   ]
  },
  {
   "cell_type": "code",
   "execution_count": 7,
   "metadata": {
    "pycharm": {
     "name": "#%%\n"
    }
   },
   "outputs": [
    {
     "data": {
      "text/plain": [
       "array([[ 2.02828904e+00,  2.93545603e+00,  1.20383420e+00, ...,\n",
       "        -5.16323990e-03,  1.75654075e-01, -1.65732897e+00],\n",
       "       [ 8.54834799e-01, -3.66772207e+00,  1.69904825e+00, ...,\n",
       "        -7.60049560e-01,  2.70724182e-01, -4.67690817e-01],\n",
       "       [-1.05741405e+00, -5.72322892e-01, -2.49993202e+00, ...,\n",
       "        -8.46992359e-02, -9.32564176e-01, -1.82614412e+00],\n",
       "       ...,\n",
       "       [-3.29359673e+00,  1.57834989e+00,  8.08668584e-01, ...,\n",
       "        -2.02213191e+00,  3.38839293e+00,  1.09029340e+00],\n",
       "       [ 8.71280814e-02, -2.66591935e+00,  5.62879906e+00, ...,\n",
       "         1.12677096e+01, -1.15688007e+00,  1.92471085e+00],\n",
       "       [-3.75377076e+00, -1.41570323e-01, -2.56859487e+00, ...,\n",
       "        -4.68409654e-01,  1.42119129e+00, -3.12835490e-01]])"
      ]
     },
     "execution_count": 7,
     "metadata": {},
     "output_type": "execute_result"
    }
   ],
   "source": [
    "X_transform"
   ]
  },
  {
   "cell_type": "code",
   "execution_count": 8,
   "metadata": {
    "pycharm": {
     "name": "#%%\n"
    }
   },
   "outputs": [],
   "source": [
    "X_train, X_test, y_train, y_test = train_test_split(X_transform, y, test_size=0.33, random_state=42)"
   ]
  },
  {
   "cell_type": "markdown",
   "metadata": {
    "pycharm": {
     "name": "#%% md\n"
    }
   },
   "source": [
    "# Linear Regression"
   ]
  },
  {
   "cell_type": "code",
   "execution_count": 9,
   "metadata": {
    "pycharm": {
     "name": "#%%\n"
    }
   },
   "outputs": [
    {
     "name": "stdout",
     "output_type": "stream",
     "text": [
      "MSE score of Linear Regression Model: 0.5632956782136991\n",
      "-5.1008077481227465\n"
     ]
    }
   ],
   "source": [
    "from sklearn.metrics import mean_squared_error\n",
    "lr = linear_model.LinearRegression()\n",
    "lr.fit(X_train,y_train)\n",
    "mse_lr = mean_squared_error(lr.predict(X_test), y_test)\n",
    "r2_lr = r2_score(lr.predict(X_test), y_test)\n",
    "print(\"MSE score of Linear Regression Model:\",mse_lr)\n",
    "print(r2_lr)"
   ]
  },
  {
   "cell_type": "markdown",
   "metadata": {
    "pycharm": {
     "name": "#%% md\n"
    }
   },
   "source": [
    "# LASSO"
   ]
  },
  {
   "cell_type": "code",
   "execution_count": 10,
   "metadata": {
    "pycharm": {
     "name": "#%%\n"
    }
   },
   "outputs": [
    {
     "name": "stdout",
     "output_type": "stream",
     "text": [
      "0.5632419362889657\n",
      "-5.178381634165357\n"
     ]
    }
   ],
   "source": [
    "lasso_cv = linear_model.LassoCV(selection='random', cv=5)\n",
    "lasso_cv.fit(X_train, y_train)\n",
    "mse_lasso = mean_squared_error(lasso_cv.predict(X_test), y_test)\n",
    "r2_lasso = r2_score(lasso_cv.predict(X_test), y_test)\n",
    "print(mse_lasso)\n",
    "print(r2_lasso)"
   ]
  },
  {
   "cell_type": "markdown",
   "metadata": {
    "pycharm": {
     "name": "#%% md\n"
    }
   },
   "source": [
    "# XGBoost"
   ]
  },
  {
   "cell_type": "code",
   "execution_count": 39,
   "metadata": {
    "pycharm": {
     "name": "#%%\n"
    },
    "scrolled": false
   },
   "outputs": [
    {
     "name": "stdout",
     "output_type": "stream",
     "text": [
      "100%|██████████| 200/200 [1:11:00<00:00, 21.30s/trial, best loss: 0.7213304892602292]\n"
     ]
    }
   ],
   "source": [
    "xgboost_params = {\n",
    "    'n_estimators': hp.quniform('n_estimators', 800, 2400, 400),\n",
    "    'max_depth':hp.quniform('max_depth', 5, 12, 1),\n",
    "    'colsample_bytree':hp.quniform('colsample_bytree', 0.3, 1, 0.05),\n",
    "    'min_child_weight':hp.quniform('min_child_weight', 1,6,1),\n",
    "}\n",
    "\n",
    "def hyperparameter_tuning_xgboost(space):\n",
    "    clf = XGBRegressor(n_estimators=int(space['n_estimators']),\n",
    "                       max_depth=int(space['max_depth']), min_child_weight=space['min_child_weight'],\n",
    "                       colsample_bytree=space['colsample_bytree'], learning_rate=0.01,\n",
    "                       seed=42)\n",
    "\n",
    "    evaluation = [(X_test, y_test)]\n",
    "    clf.fit(X_train, y_train,\n",
    "            eval_set=evaluation,\n",
    "            early_stopping_rounds=200, verbose=False)\n",
    "    y_pred = clf.predict(X_test)\n",
    "    rmse = np.sqrt(((y_test-y_pred)**2).mean())\n",
    "    return {'loss': rmse, 'status': STATUS_OK}\n",
    "\n",
    "trials = Trials()\n",
    "xgboost_best = fmin(fn=hyperparameter_tuning_xgboost, space=xgboost_params, algo=tpe.suggest,\n",
    "                    max_evals=200, trials=trials)\n",
    "\n",
    "xgb = XGBRegressor(n_estimators=int(xgboost_best['n_estimators']),\n",
    "                   max_depth=int(xgboost_best['max_depth']), min_child_weight=xgboost_best['min_child_weight'],\n",
    "                   colsample_bytree=xgboost_best['colsample_bytree'], learning_rate=0.01,\n",
    "                   seed=42)\n",
    "evaluation = [(X_test, y_test)]\n",
    "xgb.fit(X_train, y_train)\n",
    "y_pred = xgb.predict(X_test)\n",
    "\n",
    "test_score_xg = xgb.score(X_test, y_test)\n",
    "train_score_xg = xgb.score(X_train, y_train)"
   ]
  },
  {
   "cell_type": "code",
   "execution_count": 40,
   "metadata": {
    "pycharm": {
     "name": "#%%\n"
    }
   },
   "outputs": [
    {
     "data": {
      "text/plain": [
       "0.18811272232242604"
      ]
     },
     "execution_count": 40,
     "metadata": {},
     "output_type": "execute_result"
    }
   ],
   "source": [
    "test_score_xg"
   ]
  },
  {
   "cell_type": "code",
   "execution_count": 41,
   "metadata": {
    "pycharm": {
     "name": "#%%\n"
    }
   },
   "outputs": [
    {
     "data": {
      "text/plain": [
       "0.9858862395949155"
      ]
     },
     "execution_count": 41,
     "metadata": {},
     "output_type": "execute_result"
    }
   ],
   "source": [
    "train_score_xg"
   ]
  },
  {
   "cell_type": "code",
   "execution_count": 42,
   "metadata": {
    "pycharm": {
     "name": "#%%\n"
    }
   },
   "outputs": [
    {
     "data": {
      "text/plain": [
       "{'colsample_bytree': 0.4,\n",
       " 'max_depth': 10.0,\n",
       " 'min_child_weight': 1.0,\n",
       " 'n_estimators': 1600.0}"
      ]
     },
     "execution_count": 42,
     "metadata": {},
     "output_type": "execute_result"
    }
   ],
   "source": [
    "xgboost_best"
   ]
  },
  {
   "cell_type": "code",
   "execution_count": 45,
   "metadata": {
    "pycharm": {
     "name": "#%%\n"
    }
   },
   "outputs": [
    {
     "data": {
      "text/plain": [
       "array([0.07700451, 0.08915168, 0.1472657 , 0.07689214, 0.09882391,\n",
       "       0.13457672, 0.08443933, 0.08405108, 0.08890659, 0.1188884 ],\n",
       "      dtype=float32)"
      ]
     },
     "execution_count": 45,
     "metadata": {},
     "output_type": "execute_result"
    }
   ],
   "source": [
    "xgb.feature_importances_"
   ]
  },
  {
   "cell_type": "code",
   "execution_count": 50,
   "metadata": {
    "pycharm": {
     "name": "#%%\n"
    },
    "scrolled": false
   },
   "outputs": [
    {
     "data": {
      "text/plain": [
       "Text(0.5, 0, 'Relative Importanceog XGBoost')"
      ]
     },
     "execution_count": 50,
     "metadata": {},
     "output_type": "execute_result"
    },
    {
     "data": {
      "image/png": "[encoded data removed]",
      "text/plain": [
       "<Figure size 864x864 with 1 Axes>"
      ]
     },
     "metadata": {
      "needs_background": "light"
     },
     "output_type": "display_data"
    }
   ],
   "source": [
    "import matplotlib.pyplot as plt\n",
    "%matplotlib inline\n",
    "importances = xgb.feature_importances_\n",
    "indices = np.argsort(importances)\n",
    "\n",
    "\n",
    "plt.figure(figsize=(12,12))\n",
    "plt.title('Feature Importances')\n",
    "plt.barh(range(len(indices)), importances[indices], color='b', align='center')\n",
    "#plt.yticks(range(len(indices)),feature_names)\n",
    "plt.yticks(range(len(indices)),np.array([0,1,2,3,4,5,6,7,8,9])[indices])\n",
    "plt.xlabel('Relative Importanceog XGBoost')"
   ]
  },
  {
   "cell_type": "markdown",
   "metadata": {
    "pycharm": {
     "name": "#%% md\n"
    }
   },
   "source": [
    "# CatBoost (GridSearch)"
   ]
  },
  {
   "cell_type": "code",
   "execution_count": 24,
   "metadata": {
    "pycharm": {
     "name": "#%%\n"
    }
   },
   "outputs": [],
   "source": [
    "params = {\n",
    "    'n_estimators': [100,300,500,800],\n",
    "    'learning_rate':[0.01],\n",
    "    'max_depth':np.arange(5, 12),\n",
    "    'colsample_bylevel':np.arange(0.1, 0.8, 0.05),\n",
    "    'min_child_samples':np.arange(50, 200, 50),\n",
    "}\n",
    "\n",
    "CVmodel = GridSearchCV(CatBoostRegressor(logging_level='Silent'),params,cv=3)\n",
    "CVmodel.fit(X_train, np.ravel(y_train))\n",
    "\n",
    "cb_model = CatBoostRegressor(n_estimators = CVmodel.best_params_['n_estimators'],\n",
    "                             learning_rate=CVmodel.best_params_['learning_rate'],\n",
    "                             max_depth=CVmodel.best_params_['max_depth'],\n",
    "                             min_child_samples=CVmodel.best_params_['min_child_samples'],\n",
    "                             colsample_bylevel=CVmodel.best_params_['colsample_bylevel'],\n",
    "                             random_seed=42, logging_level='Silent')\n",
    "\n",
    "cb_model.fit(X_train,y_train)\n",
    "cb_train_pred = cb_model.predict(X_train)\n",
    "cb_test_pred = cb_model.predict(X_test)\n",
    "\n",
    "train_score_grid = r2_score(y_train, cb_train_pred)\n",
    "test_score_grid = r2_score(y_test, cb_test_pred)"
   ]
  },
  {
   "cell_type": "code",
   "execution_count": 26,
   "metadata": {
    "pycharm": {
     "name": "#%%\n"
    }
   },
   "outputs": [
    {
     "data": {
      "text/plain": [
       "0.6170352396887195"
      ]
     },
     "execution_count": 26,
     "metadata": {},
     "output_type": "execute_result"
    }
   ],
   "source": [
    "train_score_grid"
   ]
  },
  {
   "cell_type": "code",
   "execution_count": 27,
   "metadata": {
    "pycharm": {
     "name": "#%%\n"
    }
   },
   "outputs": [
    {
     "data": {
      "text/plain": [
       "0.2206603916741896"
      ]
     },
     "execution_count": 27,
     "metadata": {},
     "output_type": "execute_result"
    }
   ],
   "source": [
    "test_score_grid"
   ]
  },
  {
   "cell_type": "code",
   "execution_count": 28,
   "metadata": {
    "pycharm": {
     "name": "#%%\n"
    }
   },
   "outputs": [
    {
     "data": {
      "text/plain": [
       "{'colsample_bylevel': 0.40000000000000013,\n",
       " 'learning_rate': 0.01,\n",
       " 'max_depth': 11,\n",
       " 'min_child_samples': 50,\n",
       " 'n_estimators': 800}"
      ]
     },
     "execution_count": 28,
     "metadata": {},
     "output_type": "execute_result"
    }
   ],
   "source": [
    "CVmodel.best_params_"
   ]
  },
  {
   "cell_type": "code",
   "execution_count": 29,
   "metadata": {
    "pycharm": {
     "name": "#%%\n"
    }
   },
   "outputs": [
    {
     "data": {
      "text/plain": [
       "Text(0.5, 0, 'Relative Importanceog CatBoost (GridSearch) with PCA')"
      ]
     },
     "execution_count": 29,
     "metadata": {},
     "output_type": "execute_result"
    },
    {
     "data": {
      "image/png": "[encoded data removed]",
      "text/plain": [
       "<Figure size 864x864 with 1 Axes>"
      ]
     },
     "metadata": {
      "needs_background": "light"
     },
     "output_type": "display_data"
    }
   ],
   "source": [
    "import matplotlib.pyplot as plt\n",
    "%matplotlib inline\n",
    "importances = cb_model.feature_importances_\n",
    "indices = np.argsort(importances)\n",
    "\n",
    "\n",
    "plt.figure(figsize=(12,12))\n",
    "plt.title('Feature Importances')\n",
    "plt.barh(range(len(indices)), importances[indices], color='b', align='center')\n",
    "#plt.yticks(range(len(indices)),feature_names)\n",
    "plt.yticks(range(len(indices)),np.array([0,1,2,3,4,5,6,7,8,9])[indices])\n",
    "plt.xlabel('Relative Importanceog CatBoost (GridSearch) with PCA')"
   ]
  },
  {
   "cell_type": "markdown",
   "metadata": {
    "pycharm": {
     "name": "#%% md\n"
    }
   },
   "source": [
    "# CatBoost (fmin)"
   ]
  },
  {
   "cell_type": "code",
   "execution_count": 12,
   "metadata": {
    "pycharm": {
     "name": "#%%\n"
    }
   },
   "outputs": [
    {
     "name": "stdout",
     "output_type": "stream",
     "text": [
      "100%|██████████████████████████████████████████████| 100/100 [20:35<00:00, 12.35s/trial, best loss: 0.7043719587147637]\n"
     ]
    }
   ],
   "source": [
    "catboost_params = {\n",
    "    'n_estimators':hp.quniform('n_estimators', 100, 800, 100),\n",
    "    'max_depth':hp.quniform('max_depth', 5, 12, 1),\n",
    "    'colsample_bylevel':hp.quniform('colsample_bylevel', 0.1, 0.8, 0.05),\n",
    "    'min_child_samples':hp.quniform('min_child_samples', 50, 200, 50),\n",
    "}\n",
    "\n",
    "def hyperparameter_tuning_catboost(space):\n",
    "    clf=CatBoostRegressor(n_estimators=int(space['n_estimators']),\n",
    "                          max_depth=int(space['max_depth']), min_child_samples=space['min_child_samples'],\n",
    "                          colsample_bylevel=space['colsample_bylevel'], learning_rate=0.01,\n",
    "                          random_seed=42, logging_level='Silent')\n",
    "\n",
    "    evaluation = [(X_test, y_test)]\n",
    "    clf.fit(X_train, y_train,\n",
    "            eval_set=evaluation,\n",
    "            early_stopping_rounds=200, verbose=False)\n",
    "    y_pred = clf.predict(X_test)\n",
    "    rmse = np.sqrt(((y_test-y_pred)**2).mean())\n",
    "    return {'loss': rmse, 'status': STATUS_OK}\n",
    "\n",
    "trials = Trials()\n",
    "catboost_best = fmin(fn=hyperparameter_tuning_catboost, space=catboost_params, algo=tpe.suggest,\n",
    "                     max_evals=100, trials=trials)\n",
    "\n",
    "cb = CatBoostRegressor(n_estimators=int(catboost_best['n_estimators']),\n",
    "                       max_depth=int(catboost_best['max_depth']), min_child_samples=catboost_best['min_child_samples'],\n",
    "                       colsample_bylevel=catboost_best['colsample_bylevel'], learning_rate=0.01,\n",
    "                       random_seed=42, logging_level='Silent')\n",
    "evaluation = [(X_test, y_test)]\n",
    "cb.fit(X_train, y_train)\n",
    "y_pred = cb.predict(X_test)\n",
    "\n",
    "test_score = cb.score(X_test, y_test)\n",
    "train_score = cb.score(X_train, y_train)"
   ]
  },
  {
   "cell_type": "code",
   "execution_count": 13,
   "metadata": {
    "pycharm": {
     "name": "#%%\n"
    }
   },
   "outputs": [
    {
     "data": {
      "text/plain": [
       "0.22585934797936558"
      ]
     },
     "execution_count": 13,
     "metadata": {},
     "output_type": "execute_result"
    }
   ],
   "source": [
    "test_score"
   ]
  },
  {
   "cell_type": "code",
   "execution_count": 14,
   "metadata": {
    "pycharm": {
     "name": "#%%\n"
    }
   },
   "outputs": [
    {
     "data": {
      "text/plain": [
       "0.6813112090871911"
      ]
     },
     "execution_count": 14,
     "metadata": {},
     "output_type": "execute_result"
    }
   ],
   "source": [
    "train_score"
   ]
  },
  {
   "cell_type": "code",
   "execution_count": 15,
   "metadata": {
    "pycharm": {
     "name": "#%%\n"
    }
   },
   "outputs": [
    {
     "data": {
      "text/plain": [
       "{'learn': {'RMSE': 0.6124013990237241}}"
      ]
     },
     "execution_count": 15,
     "metadata": {},
     "output_type": "execute_result"
    }
   ],
   "source": [
    "cb.best_score_"
   ]
  },
  {
   "cell_type": "code",
   "execution_count": 16,
   "metadata": {
    "pycharm": {
     "name": "#%%\n"
    }
   },
   "outputs": [
    {
     "data": {
      "text/plain": [
       "{'colsample_bylevel': 0.7000000000000001,\n",
       " 'max_depth': 12.0,\n",
       " 'min_child_samples': 100.0,\n",
       " 'n_estimators': 800.0}"
      ]
     },
     "execution_count": 16,
     "metadata": {},
     "output_type": "execute_result"
    }
   ],
   "source": [
    "catboost_best"
   ]
  },
  {
   "cell_type": "code",
   "execution_count": 22,
   "metadata": {
    "pycharm": {
     "name": "#%%\n"
    }
   },
   "outputs": [
    {
     "data": {
      "text/plain": [
       "Text(0.5, 0, 'Relative Importanceog CatBoost (fmin) with PCA')"
      ]
     },
     "execution_count": 22,
     "metadata": {},
     "output_type": "execute_result"
    },
    {
     "data": {
      "image/png": "[encoded data removed]",
      "text/plain": [
       "<Figure size 864x864 with 1 Axes>"
      ]
     },
     "metadata": {
      "needs_background": "light"
     },
     "output_type": "display_data"
    }
   ],
   "source": [
    "import matplotlib.pyplot as plt\n",
    "%matplotlib inline\n",
    "importances = cb.feature_importances_\n",
    "indices = np.argsort(importances)\n",
    "\n",
    "\n",
    "plt.figure(figsize=(12,12))\n",
    "plt.title('Feature Importances')\n",
    "plt.barh(range(len(indices)), importances[indices], color='b', align='center')\n",
    "#plt.yticks(range(len(indices)),feature_names)\n",
    "plt.yticks(range(len(indices)),np.array([0,1,2,3,4,5,6,7,8,9])[indices])\n",
    "plt.xlabel('Relative Importanceog CatBoost (fmin) with PCA')"
   ]
  },
  {
   "cell_type": "code",
   "execution_count": null,
   "metadata": {},
   "outputs": [],
   "source": []
  }
 ],
 "metadata": {
  "kernelspec": {
   "display_name": "Python 3 (ipykernel)",
   "language": "python",
   "name": "python3"
  },
  "language_info": {
   "codemirror_mode": {
    "name": "ipython",
    "version": 3
   },
   "file_extension": ".py",
   "mimetype": "text/x-python",
   "name": "python",
   "nbconvert_exporter": "python",
   "pygments_lexer": "ipython3",
   "version": "3.9.7"
  }
 },
 "nbformat": 4,
 "nbformat_minor": 1
}
